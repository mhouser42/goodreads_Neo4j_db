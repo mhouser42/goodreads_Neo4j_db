{
 "cells": [
  {
   "cell_type": "markdown",
   "id": "4a74435c",
   "metadata": {
    "pycharm": {
     "name": "#%% md\n"
    }
   },
   "source": [
    "# Uploading tables to Neo4j\n",
    "\n",
    "Welcome to **Part 2** of my project. In this notebook I will be taking the tables I cleaned/created in `csv_clean.pynb` and manipulating them to be to create a non-relational, graph database in Neo4j.\n",
    "\n",
    "## Importing Libraries\n",
    "\n",
    "The py2neo library is a community created client library for working in Neo4j. It allows for simple and intuitive interactions with Neo4j, in a way that is much simplier than the company's properitory api."
   ]
  },
  {
   "cell_type": "code",
   "execution_count": 1,
   "id": "614b3ac0",
   "metadata": {
    "pycharm": {
     "name": "#%%\n"
    }
   },
   "outputs": [],
   "source": [
    "from py2neo import Graph, Node, Relationship, NodeMatcher, NodeMatch, RelationshipMatcher\n",
    "\n",
    "import pandas as pd\n",
    "import numpy as np\n",
    "import os\n",
    "import re"
   ]
  },
  {
   "cell_type": "markdown",
   "id": "c040fa06",
   "metadata": {
    "pycharm": {
     "name": "#%% md\n"
    }
   },
   "source": [
    "## Instantiating Graph and Matchers/loading files\n",
    "\n",
    "before I can do anything I need to create a space to add my datasets to. I also create matchers in case I need them. I'll also take this moment to read my previously created tables into a dataframe."
   ]
  },
  {
   "cell_type": "code",
   "execution_count": 2,
   "id": "2fc3500b",
   "metadata": {
    "pycharm": {
     "name": "#%%\n"
    }
   },
   "outputs": [],
   "source": [
    "\"\"\"\n",
    "two seperate graphs. For a local instance, use the first. \n",
    "\n",
    "For remote instance, use the second. This instance will take several hours to upload everything, so be careful with this one.\n",
    "\n",
    "BE SURE TO COMMENT OUT WHATEVER YOU ARE NOT USING.\n",
    "\"\"\"\n",
    "# local instance\n",
    "graph = Graph('neo4j://localhost:7687', user='neo4j',\n",
    "              password='PnUPiYIuPmlUTQOXPMNs_i66Bws05VY73hJyOmvQ9SI')\n",
    "\n",
    "# # remote instance\n",
    "# graph = Graph('neo4j+s://937f5f62.databases.neo4j.io',user='neo4j',\n",
    "#                password='c4X7H5lguOVKM3vJzx8zi_JUUTtfu9iZdjhoufcVvlY')\n",
    "\n",
    "node_matcher = NodeMatcher(graph)\n",
    "rel_matcher = RelationshipMatcher(graph)"
   ]
  },
  {
   "cell_type": "code",
   "execution_count": 3,
   "id": "72c3e225",
   "metadata": {
    "pycharm": {
     "name": "#%%\n"
    }
   },
   "outputs": [
    {
     "name": "stdout",
     "output_type": "stream",
     "text": [
      "<class 'pandas.core.frame.DataFrame'>\n",
      "RangeIndex: 11127 entries, 0 to 11126\n",
      "Data columns (total 10 columns):\n",
      " #   Column              Non-Null Count  Dtype  \n",
      "---  ------              --------------  -----  \n",
      " 0   book_id             11127 non-null  int64  \n",
      " 1   title               11127 non-null  object \n",
      " 2   isbn_10             11127 non-null  object \n",
      " 3   isbn_13             11127 non-null  int64  \n",
      " 4   language_code       11127 non-null  object \n",
      " 5   audio_book          11127 non-null  bool   \n",
      " 6   num_pages           11127 non-null  int64  \n",
      " 7   ratings_count       11127 non-null  int64  \n",
      " 8   average_rating      11127 non-null  float64\n",
      " 9   text_reviews_count  11127 non-null  int64  \n",
      "dtypes: bool(1), float64(1), int64(5), object(3)\n",
      "memory usage: 793.4+ KB\n",
      "\n",
      "<class 'pandas.core.frame.DataFrame'>\n",
      "RangeIndex: 19244 entries, 0 to 19243\n",
      "Data columns (total 4 columns):\n",
      " #   Column       Non-Null Count  Dtype \n",
      "---  ------       --------------  ----- \n",
      " 0   Unnamed: 0   19244 non-null  int64 \n",
      " 1   author_id    19244 non-null  int64 \n",
      " 2   author_name  19244 non-null  object\n",
      " 3   book_id      19244 non-null  int64 \n",
      "dtypes: int64(3), object(1)\n",
      "memory usage: 601.5+ KB\n",
      "\n",
      "<class 'pandas.core.frame.DataFrame'>\n",
      "RangeIndex: 11127 entries, 0 to 11126\n",
      "Data columns (total 5 columns):\n",
      " #   Column            Non-Null Count  Dtype \n",
      "---  ------            --------------  ----- \n",
      " 0   Unnamed: 0        11127 non-null  int64 \n",
      " 1   publisher_id      11127 non-null  int64 \n",
      " 2   publisher_name    11127 non-null  object\n",
      " 3   publication_date  11126 non-null  object\n",
      " 4   book_id           11127 non-null  int64 \n",
      "dtypes: int64(3), object(2)\n",
      "memory usage: 434.8+ KB\n"
     ]
    }
   ],
   "source": [
    "book_df = pd.read_csv('data/books_cleaned.csv')\n",
    "author_df = pd.read_csv('data/authors.csv')\n",
    "publisher_df = pd.read_csv('data/publishers.csv')\n",
    "\n",
    "book_df.info()\n",
    "print()\n",
    "author_df.info()\n",
    "print()\n",
    "publisher_df.info()"
   ]
  },
  {
   "cell_type": "markdown",
   "id": "c646b2a2",
   "metadata": {
    "pycharm": {
     "name": "#%% md\n"
    }
   },
   "source": [
    "## **ADDENDUM**\n",
    "\n",
    "I found another [iteration of the dataset on kaggle](https://www.kaggle.com/datasets/middlelight/goodreadsbookswithgenres) that enriches the semantic content of the nodes significantly, and I thought would be worth including. \n",
    "\n",
    "If I was starting from scratch, I would probably begin with this dataset. But in the spirit of Saint Provenance, I will instead concatenate the extra column onto my cleaned data, and use this to add extra information to my nodes.\n",
    "\n",
    "By doing this we will be able to ask questions like:\n",
    "- What publisher produces the most content in the sci-fi genre?\n",
    "- Which authors write books that are both in the fantasy and young-adult genres who worked with a publisher that published books in Spanish?\n",
    "\n",
    "Queries might start to sound like run on sentences, but they are very easy to write in Cypher and for Neo4j to interpret."
   ]
  },
  {
   "cell_type": "code",
   "execution_count": 4,
   "id": "5a64f740",
   "metadata": {
    "pycharm": {
     "name": "#%%\n"
    }
   },
   "outputs": [
    {
     "name": "stdout",
     "output_type": "stream",
     "text": [
      "Fantasy\n",
      "Young Adult\n",
      "Fiction\n",
      "Fantasy\n",
      "Magic\n",
      "Childrens\n",
      "Adventure\n",
      "Audiobook\n",
      "Childrens\n",
      "Middle Grade\n",
      "Classics\n",
      "Science Fiction Fantasy\n",
      "Fantasy\n",
      "Young Adult\n",
      "Fiction\n",
      "Fantasy\n",
      "Magic\n",
      "Childrens\n",
      "Adventure\n",
      "Audiobook\n",
      "Childrens\n",
      "Middle Grade\n",
      "Classics\n",
      "Science Fiction Fantasy\n",
      "Fantasy\n",
      "Fiction\n",
      "Young Adult\n",
      "Fantasy\n",
      "Magic\n",
      "Childrens\n",
      "Childrens\n",
      "Middle Grade\n",
      "Audiobook\n",
      "Adventure\n",
      "Classics\n",
      "Science Fiction Fantasy\n",
      "Fantasy\n",
      "Fiction\n",
      "Young Adult\n",
      "Fantasy\n",
      "Magic\n",
      "Childrens\n",
      "Childrens\n",
      "Middle Grade\n",
      "Adventure\n",
      "Audiobook\n",
      "Classics\n",
      "Science Fiction Fantasy\n",
      "Fantasy\n",
      "Young Adult\n",
      "Fiction\n",
      "Fantasy\n",
      "Magic\n",
      "Adventure\n",
      "Fantasy\n",
      "Supernatural\n",
      "Mystery\n",
      "Childrens\n",
      "Fantasy\n",
      "Paranormal\n",
      "Childrens\n",
      "Middle Grade\n",
      "Fiction\n",
      "Fantasy\n",
      "Fiction\n",
      "Young Adult\n",
      "Fantasy\n",
      "Magic\n",
      "Childrens\n",
      "Classics\n",
      "Adventure\n",
      "Science Fiction Fantasy\n",
      "Novels\n",
      "Paranormal\n",
      "Wizards\n",
      "Science Fiction\n",
      "Fiction\n",
      "Humor\n",
      "Fantasy\n",
      "Classics\n",
      "Humor\n",
      "Comedy\n",
      "Science Fiction Fantasy\n",
      "Adventure\n",
      "Novels\n",
      "European Literature\n",
      "British Literature\n",
      "Science Fiction\n",
      "Fiction\n",
      "Humor\n",
      "Fantasy\n",
      "Classics\n",
      "Humor\n",
      "Comedy\n",
      "Science Fiction Fantasy\n",
      "Adventure\n",
      "Novels\n",
      "European Literature\n",
      "British Literature\n",
      "Science Fiction\n",
      "Fiction\n",
      "Humor\n",
      "Classics\n",
      "Fantasy\n",
      "Humor\n",
      "Comedy\n",
      "Science Fiction Fantasy\n",
      "Audiobook\n",
      "Adventure\n",
      "Novels\n"
     ]
    }
   ],
   "source": [
    "genre_df = pd.read_csv('data/books_with_genres.csv')\n",
    "genre_column = genre_df['genres']\n",
    "\n",
    "for genres in genre_column[:10]:\n",
    "    genre_list = list(genres.split(';'))\n",
    "    for genre in genre_list:\n",
    "        if ',' in genre:\n",
    "            genre, subgenre = genre.split(',')\n",
    "            print(genre)\n",
    "            print(subgenre)\n",
    "        else:\n",
    "            print(genre)"
   ]
  },
  {
   "cell_type": "markdown",
   "id": "da7ec169",
   "metadata": {
    "pycharm": {
     "name": "#%% md\n"
    }
   },
   "source": [
    "with the above approach, I should now be able to add these labels to my nodes. In order to match up the genres with my cleaned dataframe, I will also pull the `isbn13` column from the `genre_df` and use it to join the tables together."
   ]
  },
  {
   "cell_type": "code",
   "execution_count": 5,
   "id": "866e9266",
   "metadata": {
    "pycharm": {
     "name": "#%%\n"
    }
   },
   "outputs": [
    {
     "data": {
      "text/html": [
       "<div>\n",
       "<style scoped>\n",
       "    .dataframe tbody tr th:only-of-type {\n",
       "        vertical-align: middle;\n",
       "    }\n",
       "\n",
       "    .dataframe tbody tr th {\n",
       "        vertical-align: top;\n",
       "    }\n",
       "\n",
       "    .dataframe thead th {\n",
       "        text-align: right;\n",
       "    }\n",
       "</style>\n",
       "<table border=\"1\" class=\"dataframe\">\n",
       "  <thead>\n",
       "    <tr style=\"text-align: right;\">\n",
       "      <th></th>\n",
       "      <th>book_id</th>\n",
       "      <th>title</th>\n",
       "      <th>isbn_10</th>\n",
       "      <th>isbn_13</th>\n",
       "      <th>language_code</th>\n",
       "      <th>audio_book</th>\n",
       "      <th>num_pages</th>\n",
       "      <th>ratings_count</th>\n",
       "      <th>average_rating</th>\n",
       "      <th>text_reviews_count</th>\n",
       "      <th>genres</th>\n",
       "    </tr>\n",
       "  </thead>\n",
       "  <tbody>\n",
       "    <tr>\n",
       "      <th>0</th>\n",
       "      <td>1</td>\n",
       "      <td>Harry Potter and the Half-Blood Prince (Harry ...</td>\n",
       "      <td>0439785960</td>\n",
       "      <td>9780439785969</td>\n",
       "      <td>eng</td>\n",
       "      <td>False</td>\n",
       "      <td>652</td>\n",
       "      <td>2095690</td>\n",
       "      <td>4.57</td>\n",
       "      <td>27591</td>\n",
       "      <td>Fantasy;Young Adult;Fiction;Fantasy,Magic;Chil...</td>\n",
       "    </tr>\n",
       "    <tr>\n",
       "      <th>1</th>\n",
       "      <td>2</td>\n",
       "      <td>Harry Potter and the Order of the Phoenix (Har...</td>\n",
       "      <td>0439358078</td>\n",
       "      <td>9780439358071</td>\n",
       "      <td>eng</td>\n",
       "      <td>False</td>\n",
       "      <td>870</td>\n",
       "      <td>2153167</td>\n",
       "      <td>4.49</td>\n",
       "      <td>29221</td>\n",
       "      <td>Fantasy;Young Adult;Fiction;Fantasy,Magic;Chil...</td>\n",
       "    </tr>\n",
       "    <tr>\n",
       "      <th>2</th>\n",
       "      <td>3</td>\n",
       "      <td>Harry Potter and the Chamber of Secrets (Harry...</td>\n",
       "      <td>0439554896</td>\n",
       "      <td>9780439554893</td>\n",
       "      <td>eng</td>\n",
       "      <td>False</td>\n",
       "      <td>352</td>\n",
       "      <td>6333</td>\n",
       "      <td>4.42</td>\n",
       "      <td>244</td>\n",
       "      <td>Fantasy;Fiction;Young Adult;Fantasy,Magic;Chil...</td>\n",
       "    </tr>\n",
       "    <tr>\n",
       "      <th>3</th>\n",
       "      <td>4</td>\n",
       "      <td>Harry Potter and the Prisoner of Azkaban (Harr...</td>\n",
       "      <td>043965548X</td>\n",
       "      <td>9780439655484</td>\n",
       "      <td>eng</td>\n",
       "      <td>False</td>\n",
       "      <td>435</td>\n",
       "      <td>2339585</td>\n",
       "      <td>4.56</td>\n",
       "      <td>36325</td>\n",
       "      <td>Fantasy;Fiction;Young Adult;Fantasy,Magic;Chil...</td>\n",
       "    </tr>\n",
       "    <tr>\n",
       "      <th>4</th>\n",
       "      <td>5</td>\n",
       "      <td>Harry Potter Boxed Set Books 1-5 (Harry Potter...</td>\n",
       "      <td>0439682584</td>\n",
       "      <td>9780439682589</td>\n",
       "      <td>eng</td>\n",
       "      <td>False</td>\n",
       "      <td>2690</td>\n",
       "      <td>41428</td>\n",
       "      <td>4.78</td>\n",
       "      <td>164</td>\n",
       "      <td>Fantasy;Young Adult;Fiction;Fantasy,Magic;Adve...</td>\n",
       "    </tr>\n",
       "    <tr>\n",
       "      <th>...</th>\n",
       "      <td>...</td>\n",
       "      <td>...</td>\n",
       "      <td>...</td>\n",
       "      <td>...</td>\n",
       "      <td>...</td>\n",
       "      <td>...</td>\n",
       "      <td>...</td>\n",
       "      <td>...</td>\n",
       "      <td>...</td>\n",
       "      <td>...</td>\n",
       "      <td>...</td>\n",
       "    </tr>\n",
       "    <tr>\n",
       "      <th>11122</th>\n",
       "      <td>11123</td>\n",
       "      <td>Expelled from Eden: A William T. Vollmann Reader</td>\n",
       "      <td>1560254416</td>\n",
       "      <td>9781560254416</td>\n",
       "      <td>eng</td>\n",
       "      <td>False</td>\n",
       "      <td>512</td>\n",
       "      <td>156</td>\n",
       "      <td>4.06</td>\n",
       "      <td>20</td>\n",
       "      <td>Fiction;Writing,Essays;Literature,American;The...</td>\n",
       "    </tr>\n",
       "    <tr>\n",
       "      <th>11123</th>\n",
       "      <td>11124</td>\n",
       "      <td>You Bright and Risen Angels</td>\n",
       "      <td>0140110879</td>\n",
       "      <td>9780140110876</td>\n",
       "      <td>eng</td>\n",
       "      <td>False</td>\n",
       "      <td>635</td>\n",
       "      <td>783</td>\n",
       "      <td>4.08</td>\n",
       "      <td>56</td>\n",
       "      <td>Fiction;Science Fiction;Literature;Novels;Lite...</td>\n",
       "    </tr>\n",
       "    <tr>\n",
       "      <th>11124</th>\n",
       "      <td>11125</td>\n",
       "      <td>The Ice-Shirt (Seven Dreams #1)</td>\n",
       "      <td>0140131965</td>\n",
       "      <td>9780140131963</td>\n",
       "      <td>eng</td>\n",
       "      <td>False</td>\n",
       "      <td>415</td>\n",
       "      <td>820</td>\n",
       "      <td>3.96</td>\n",
       "      <td>95</td>\n",
       "      <td>Historical,Historical Fiction;Fiction;Novels;F...</td>\n",
       "    </tr>\n",
       "    <tr>\n",
       "      <th>11125</th>\n",
       "      <td>11126</td>\n",
       "      <td>Poor People</td>\n",
       "      <td>0060878827</td>\n",
       "      <td>9780060878825</td>\n",
       "      <td>eng</td>\n",
       "      <td>False</td>\n",
       "      <td>434</td>\n",
       "      <td>769</td>\n",
       "      <td>3.72</td>\n",
       "      <td>139</td>\n",
       "      <td>Nonfiction;Sociology;Social Issues,Poverty;His...</td>\n",
       "    </tr>\n",
       "    <tr>\n",
       "      <th>11126</th>\n",
       "      <td>11127</td>\n",
       "      <td>Las aventuras de Tom Sawyer</td>\n",
       "      <td>8497646983</td>\n",
       "      <td>9788497646987</td>\n",
       "      <td>spa</td>\n",
       "      <td>False</td>\n",
       "      <td>272</td>\n",
       "      <td>113</td>\n",
       "      <td>3.91</td>\n",
       "      <td>12</td>\n",
       "      <td>Classics;Fiction;Adventure;Historical,Historic...</td>\n",
       "    </tr>\n",
       "  </tbody>\n",
       "</table>\n",
       "<p>11127 rows × 11 columns</p>\n",
       "</div>"
      ],
      "text/plain": [
       "       book_id                                              title     isbn_10  \\\n",
       "0            1  Harry Potter and the Half-Blood Prince (Harry ...  0439785960   \n",
       "1            2  Harry Potter and the Order of the Phoenix (Har...  0439358078   \n",
       "2            3  Harry Potter and the Chamber of Secrets (Harry...  0439554896   \n",
       "3            4  Harry Potter and the Prisoner of Azkaban (Harr...  043965548X   \n",
       "4            5  Harry Potter Boxed Set Books 1-5 (Harry Potter...  0439682584   \n",
       "...        ...                                                ...         ...   \n",
       "11122    11123   Expelled from Eden: A William T. Vollmann Reader  1560254416   \n",
       "11123    11124                        You Bright and Risen Angels  0140110879   \n",
       "11124    11125                    The Ice-Shirt (Seven Dreams #1)  0140131965   \n",
       "11125    11126                                        Poor People  0060878827   \n",
       "11126    11127                        Las aventuras de Tom Sawyer  8497646983   \n",
       "\n",
       "             isbn_13 language_code  audio_book  num_pages  ratings_count  \\\n",
       "0      9780439785969           eng       False        652        2095690   \n",
       "1      9780439358071           eng       False        870        2153167   \n",
       "2      9780439554893           eng       False        352           6333   \n",
       "3      9780439655484           eng       False        435        2339585   \n",
       "4      9780439682589           eng       False       2690          41428   \n",
       "...              ...           ...         ...        ...            ...   \n",
       "11122  9781560254416           eng       False        512            156   \n",
       "11123  9780140110876           eng       False        635            783   \n",
       "11124  9780140131963           eng       False        415            820   \n",
       "11125  9780060878825           eng       False        434            769   \n",
       "11126  9788497646987           spa       False        272            113   \n",
       "\n",
       "       average_rating  text_reviews_count  \\\n",
       "0                4.57               27591   \n",
       "1                4.49               29221   \n",
       "2                4.42                 244   \n",
       "3                4.56               36325   \n",
       "4                4.78                 164   \n",
       "...               ...                 ...   \n",
       "11122            4.06                  20   \n",
       "11123            4.08                  56   \n",
       "11124            3.96                  95   \n",
       "11125            3.72                 139   \n",
       "11126            3.91                  12   \n",
       "\n",
       "                                                  genres  \n",
       "0      Fantasy;Young Adult;Fiction;Fantasy,Magic;Chil...  \n",
       "1      Fantasy;Young Adult;Fiction;Fantasy,Magic;Chil...  \n",
       "2      Fantasy;Fiction;Young Adult;Fantasy,Magic;Chil...  \n",
       "3      Fantasy;Fiction;Young Adult;Fantasy,Magic;Chil...  \n",
       "4      Fantasy;Young Adult;Fiction;Fantasy,Magic;Adve...  \n",
       "...                                                  ...  \n",
       "11122  Fiction;Writing,Essays;Literature,American;The...  \n",
       "11123  Fiction;Science Fiction;Literature;Novels;Lite...  \n",
       "11124  Historical,Historical Fiction;Fiction;Novels;F...  \n",
       "11125  Nonfiction;Sociology;Social Issues,Poverty;His...  \n",
       "11126  Classics;Fiction;Adventure;Historical,Historic...  \n",
       "\n",
       "[11127 rows x 11 columns]"
      ]
     },
     "execution_count": 5,
     "metadata": {},
     "output_type": "execute_result"
    }
   ],
   "source": [
    "genre_mask = genre_df[['genres', 'isbn13']]\n",
    "genre_mask = genre_mask.rename(columns={'isbn13':'isbn_13'})\n",
    "\n",
    "book_df = pd.merge(book_df, genre_mask, on='isbn_13', how='left')\n",
    "book_df.head()\n",
    "\n",
    "book_df"
   ]
  },
  {
   "cell_type": "markdown",
   "id": "5761b275",
   "metadata": {
    "pycharm": {
     "name": "#%% md\n"
    }
   },
   "source": [
    "Should finally be ready to upload to my database."
   ]
  },
  {
   "cell_type": "markdown",
   "id": "330eb609",
   "metadata": {
    "pycharm": {
     "name": "#%% md\n"
    }
   },
   "source": [
    "## Dumpster\n",
    "\n",
    "Be wary of duplicates! It's very easy to create redundant data in Neo4j, so it's imperative that I make sure the graph is empty before construction."
   ]
  },
  {
   "cell_type": "code",
   "execution_count": 6,
   "id": "1f8eb0c6",
   "metadata": {
    "pycharm": {
     "name": "#%%\n"
    }
   },
   "outputs": [],
   "source": [
    "graph.delete_all()"
   ]
  },
  {
   "cell_type": "markdown",
   "id": "335641f4",
   "metadata": {
    "pycharm": {
     "name": "#%% md\n"
    }
   },
   "source": [
    "## Creating Nodes\n",
    "\n",
    "There are three (or four depending on how you look at it) kinds of nodes I want to create:\n",
    "### 1. Books\n",
    "- Print Books: will be basically the same as they are in our cleaned dataset, except there will no longer be a `audio_book` property.\n",
    "- Audio Books: largely the same, except since they don't have \"pages\", so while `num_pages` was helpful for determining audiobooks, it isn't necessary in the node. This is one of the beautiful things about graph databases. You can have two things that are \"Books\" with completely different properties (although in this case the properties are mostly the same).\n",
    "\n",
    "### **ADDENDUM** \n",
    "will also be including genres as node labels. Because there is actually a `Audio Book` label in the genres column, I will be using this instead of the row I intially created, as I assume it will be a more reliable metric."
   ]
  },
  {
   "cell_type": "code",
   "execution_count": 7,
   "id": "91b565ab",
   "metadata": {
    "pycharm": {
     "name": "#%%\n"
    }
   },
   "outputs": [],
   "source": [
    "\n",
    "# Create Book Nodes\n",
    "for index, row in book_df.iterrows():\n",
    "    try:\n",
    "        try:\n",
    "            genres = row['genres'].title()\n",
    "            genres = list(genres.split(';'))\n",
    "        except:\n",
    "            pass\n",
    "        \n",
    "        if 'Audiobook' in genres:\n",
    "            book_node = Node('Book', 'Audio',\n",
    "                     bookID=f'b{row[\"book_id\"]}',\n",
    "                     title=row['title'],\n",
    "                     isbn10=row['isbn_10'],\n",
    "                     isbn13=row['isbn_13'],\n",
    "                     languageCode=row['language_code'],\n",
    "                     ratingsCount=row['ratings_count'],\n",
    "                     averageRating=row['average_rating'],\n",
    "                     textReviewsCount=row['text_reviews_count']\n",
    "                    )\n",
    "        else:\n",
    "            book_node = Node('Book', 'Print',\n",
    "                             bookID=f'b{row[\"book_id\"]}',\n",
    "                             title=row['title'],\n",
    "                             isbn10=row['isbn_10'],\n",
    "                             isbn13=row['isbn_13'],\n",
    "                             languageCode=row['language_code'],\n",
    "                             numPages=row['num_pages'],\n",
    "                             ratingsCount=row['ratings_count'],\n",
    "                             averageRating=row['average_rating'],\n",
    "                             textReviewsCount=row['text_reviews_count']\n",
    "                            )\n",
    "        try:\n",
    "            for genre in genres:\n",
    "                genre = genre.strip()\n",
    "                if genre == 'Audiobook':\n",
    "                    pass\n",
    "                elif ',' in genre:\n",
    "                    genre = genre.replace(' ', '')\n",
    "                    genre, subgenre = genre.split(',')\n",
    "                    book_node.add_label(genre)\n",
    "                    book_node.update({f'{genre[0].lower() + genre[1:]}SubGenre': subgenre})\n",
    "                else:\n",
    "                    genre = genre.replace(' ', '')\n",
    "                    book_node.add_label(genre)\n",
    "        except:\n",
    "            pass\n",
    "\n",
    "        graph.create(book_node)\n",
    "    \n",
    "    except Exception as e:\n",
    "        print(f'Error: {e} occured on line {index}')"
   ]
  },
  {
   "cell_type": "markdown",
   "id": "e0be3d04",
   "metadata": {
    "pycharm": {
     "name": "#%% md\n"
    }
   },
   "source": [
    "### 2. Authors\n",
    "\n",
    "Not much to say about these nodes, they will mainly have their id and names, most of the info in the `authors.csv` table will be used to create the relationships between books and authors, but we're getting ahead of ourselves."
   ]
  },
  {
   "cell_type": "code",
   "execution_count": 8,
   "id": "b6cdbc24",
   "metadata": {
    "pycharm": {
     "name": "#%%\n"
    }
   },
   "outputs": [],
   "source": [
    "authors = author_df[['author_id', 'author_name']].drop_duplicates()\n",
    "\n",
    "for index, row in authors.iterrows():\n",
    "    \n",
    "    author_node = Node('Author',\n",
    "                       authorID=f'a{row[\"author_id\"]}',\n",
    "                       authorName=row.author_name)\n",
    "    graph.create(author_node)"
   ]
  },
  {
   "cell_type": "markdown",
   "id": "45c8c5cf",
   "metadata": {
    "pycharm": {
     "name": "#%% md\n"
    }
   },
   "source": [
    "### Publishers\n",
    "\n",
    "similar to the authors, we need the id and name. The other columns will be useful for creating relationships"
   ]
  },
  {
   "cell_type": "code",
   "execution_count": 9,
   "id": "9945c2c3",
   "metadata": {
    "pycharm": {
     "name": "#%%\n"
    }
   },
   "outputs": [],
   "source": [
    "publishers = publisher_df[['publisher_id', 'publisher_name']].drop_duplicates()\n",
    "\n",
    "for index, row in publishers.iterrows():\n",
    "    \n",
    "    publisher_node = Node('Publisher',\n",
    "                       publisherID=f'p{row[\"publisher_id\"]}',\n",
    "                       publisherName=row.publisher_name)\n",
    "    graph.create(publisher_node)"
   ]
  },
  {
   "cell_type": "markdown",
   "id": "63f6c7c9",
   "metadata": {
    "pycharm": {
     "name": "#%% md\n"
    }
   },
   "source": [
    "## Creating Relationships\n",
    "\n",
    "now that all the nodes have been added to the database, I can start drawing connections between them. I want to have relationships between books and authors called `AUTHORED`, and one for books and publishers called `PUBLISHED`. Eventually, I might want to create more but I'll leave it at these for now."
   ]
  },
  {
   "cell_type": "markdown",
   "id": "f4a95618",
   "metadata": {
    "pycharm": {
     "name": "#%% md\n"
    }
   },
   "source": [
    "### AUTHORED Relationship"
   ]
  },
  {
   "cell_type": "code",
   "execution_count": 10,
   "id": "a086b1d0",
   "metadata": {
    "pycharm": {
     "name": "#%%\n"
    }
   },
   "outputs": [
    {
     "data": {
      "text/plain": [
       "Index(['Unnamed: 0', 'author_id', 'author_name', 'book_id'], dtype='object')"
      ]
     },
     "execution_count": 10,
     "metadata": {},
     "output_type": "execute_result"
    }
   ],
   "source": [
    "author_df.columns"
   ]
  },
  {
   "cell_type": "code",
   "execution_count": 11,
   "id": "32ae5a06",
   "metadata": {
    "pycharm": {
     "name": "#%%\n"
    }
   },
   "outputs": [],
   "source": [
    "for ind in author_df.index:\n",
    "    try:\n",
    "        auth_id = f'a{author_df[\"author_id\"][ind]}'\n",
    "        auth_name = author_df['author_name'][ind]\n",
    "        book_id = f'b{author_df[\"book_id\"][ind]}'\n",
    "        \n",
    "        author_node = node_matcher.match('Author', authorID=auth_id).first()\n",
    "        book_node = node_matcher.match('Book', bookID=book_id).first()\n",
    "        \n",
    "        relationship = Relationship(author_node, 'AUTHORED', book_node)\n",
    "        graph.create(relationship)\n",
    "    \n",
    "    except Exception as e:\n",
    "        print(f'Error: {e}')"
   ]
  },
  {
   "cell_type": "markdown",
   "id": "94848ccb",
   "metadata": {
    "pycharm": {
     "name": "#%% md\n"
    }
   },
   "source": [
    "### PUBLISHED Relationship"
   ]
  },
  {
   "cell_type": "code",
   "execution_count": 12,
   "id": "e4cc7afe",
   "metadata": {
    "pycharm": {
     "name": "#%%\n"
    }
   },
   "outputs": [
    {
     "data": {
      "text/plain": [
       "Index(['Unnamed: 0', 'publisher_id', 'publisher_name', 'publication_date',\n",
       "       'book_id'],\n",
       "      dtype='object')"
      ]
     },
     "execution_count": 12,
     "metadata": {},
     "output_type": "execute_result"
    }
   ],
   "source": [
    "publisher_df.columns"
   ]
  },
  {
   "cell_type": "code",
   "execution_count": 13,
   "id": "38997256",
   "metadata": {
    "pycharm": {
     "name": "#%%\n"
    }
   },
   "outputs": [],
   "source": [
    "for ind in publisher_df.index:\n",
    "    try:\n",
    "        pub_id = f'p{publisher_df[\"publisher_id\"][ind]}'\n",
    "        pub_name = publisher_df['publisher_name'][ind]\n",
    "        pub_date = publisher_df['publication_date'][ind]\n",
    "        book_id = f'b{publisher_df[\"book_id\"][ind]}'\n",
    "        \n",
    "        publisher_node = node_matcher.match('Publisher', publisherID=pub_id).first()\n",
    "        book_node = node_matcher.match('Book', bookID=book_id).first()\n",
    "        \n",
    "        relationship = Relationship(publisher_node, 'PUBLISHED', book_node,\n",
    "                                   publicationDate=pub_date)\n",
    "        graph.create(relationship)\n",
    "    except Exception as e:\n",
    "        print(f'Error: {e}')"
   ]
  },
  {
   "cell_type": "markdown",
   "id": "c3d1c4e2",
   "metadata": {
    "pycharm": {
     "name": "#%% md\n"
    }
   },
   "source": [
    "## Future Works\n",
    "\n",
    "This was an interesting exercise! I'm happy that I was able to add the genre node labels without any major issues. That being said, if I had more time I would probably comb through these and make sure there aren't any redudant labels. For example, \"SciFiFantasy\" and \"ScienceFictionFantasy\" could be replaced with a single label.\n",
    "\n",
    "Additionally, it would be interesting to add country data based on the ISBNs, possibly in the `PUBLISHED` relationship. The beginning numbers of an ISBN coorispond to various registration groups. For example `4` denotes the book was published in Japan, or `81` for India. However, this would require [another webscrape](https://en.wikipedia.org/wiki/List_of_ISBN_registration_groups) and a lot of fine-tuning that I'm unwilling to implement at this time."
   ]
  }
 ],
 "metadata": {
  "kernelspec": {
   "display_name": "Python 3 (ipykernel)",
   "language": "python",
   "name": "python3"
  },
  "language_info": {
   "codemirror_mode": {
    "name": "ipython",
    "version": 3
   },
   "file_extension": ".py",
   "mimetype": "text/x-python",
   "name": "python",
   "nbconvert_exporter": "python",
   "pygments_lexer": "ipython3",
   "version": "3.10.6"
  }
 },
 "nbformat": 4,
 "nbformat_minor": 5
}